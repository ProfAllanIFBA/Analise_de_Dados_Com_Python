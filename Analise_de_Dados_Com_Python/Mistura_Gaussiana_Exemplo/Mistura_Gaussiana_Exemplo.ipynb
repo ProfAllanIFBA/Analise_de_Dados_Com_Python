{
 "cells": [
  {
   "cell_type": "markdown",
   "id": "0d8caa17",
   "metadata": {},
   "source": [
    "<center> <img src=\"logo_ifba.jpg\" alt=\"jpg_python\" width=\"100\" height=\"\"> </center>\n",
    "<br><br>\n",
    "<div align=\"center\"><span style=\"font-size: 26px;\"><strong>Análise de Dados Com Python</strong></span>\n",
    "</div><br><br></center>\n",
    "<center> <img src=\"python_gif.gif\" alt=\"gif_python\" width=\"80\"> </center>"
   ]
  },
  {
   "cell_type": "markdown",
   "id": "242a55c4",
   "metadata": {},
   "source": [
    "<div style=\"border: 2px solid black; padding: 10px; width: 100%; background-color: lightgray; display: flex; align-items: center;\">\n",
    "    <h1 style=\"color: red; text-align: center; margin: auto;\">\n",
    "        Exemplo Básico Envolvendo Mistura Gaussiana\n",
    "    </h1>\n",
    "</div>\n",
    "\n",
    "<font color='red'></font>\n",
    "<a href=\"\"></a>"
   ]
  },
  {
   "cell_type": "markdown",
   "id": "c380d45b",
   "metadata": {},
   "source": [
    "Vamos criar um exemplo básico de mistura Gaussiana que se pode resolver à mão, ideal para compreensão. Este exemplo será simplificado para facilitar os cálculos manuais, usando apenas duas distribuições Gaussianas (normais) e um conjunto pequeno de dados."
   ]
  },
  {
   "cell_type": "code",
   "execution_count": null,
   "id": "8fe51e6e",
   "metadata": {
    "ExecuteTime": {
     "end_time": "2024-03-09T12:15:57.039422Z",
     "start_time": "2024-03-09T12:15:56.362285Z"
    }
   },
   "outputs": [],
   "source": [
    "import numpy as np\n",
    "from scipy.stats import norm"
   ]
  },
  {
   "cell_type": "markdown",
   "id": "0ad663c8",
   "metadata": {},
   "source": [
    "# Exemplo: Mistura de Duas Gaussianas"
   ]
  },
  {
   "cell_type": "markdown",
   "id": "cc95edd1",
   "metadata": {},
   "source": [
    "Imagine que temos um conjunto pequeno de dados representando alturas (em centímetros) de uma população de adultos, e suspeitamos que esses dados vêm de uma mistura de duas populações distintas (por exemplo, homens e mulheres).\n",
    "\n",
    "Conjunto de Dados: $160, 165, 170, 175, 180, 185$."
   ]
  },
  {
   "cell_type": "markdown",
   "id": "294b7c9e",
   "metadata": {},
   "source": [
    "Nossa tarefa é modelar esses dados usando uma mistura de duas Gaussianas. Para simplificar, vamos supor algumas coisas:\n",
    "\n",
    "1. **Médias Iniciais ($\\mu_{1}$ e $\\mu_{2}$)**: Vamos começar supondo que uma Gaussiana tem média $165$ (a mais baixa) e a outra $180$ (a mais alta).\n",
    "\n",
    "2. **Variâncias Inciais ($\\sigma_{1}^{2}$ e $\\sigma_{2}^{2}$)**: Ambas as Gaussianas tem variância $25$.\n",
    "\n",
    "3. **Pesos Inciais ($\\pi_{1}$ e $\\pi_{2}$)**: Cada Gaussiana contribui igualmente para o modelo, então ambos pesos são $0.5$.\n",
    "\n",
    "*Entenda $\\mu_{1}, \\mu_{2}, \\sigma_{1}, \\sigma_{2}, \\pi_{1}$ e $\\pi_{2}$ dados como $\\mu_{1}^{(0)}, \\mu_{2}^{(0)}, \\sigma_{1}^{(0)}, \\sigma_{2}^{(0)}, \\pi_{1}^{(0)}$ e $\\pi_{2}^{(0)}$ uma vez que a mistura Gaussiana se trata de um método iterativo. Omitiremos as iterações $^{(n)}$ por questões de simplificação.*"
   ]
  },
  {
   "cell_type": "code",
   "execution_count": null,
   "id": "cd3b7c9e",
   "metadata": {
    "ExecuteTime": {
     "end_time": "2024-03-09T12:53:36.083808Z",
     "start_time": "2024-03-09T12:53:36.078969Z"
    }
   },
   "outputs": [],
   "source": [
    "# Dados de exemplo\n",
    "dados = np.array([160, 165, 170, 175, 180, 185])\n",
    "\n",
    "# Parâmetros iniciais\n",
    "mu = np.array([165, 180]) # mu1 e mu2\n",
    "sigma = np.array([5, 5]) # sigma1 e sigma2\n",
    "pi = np.array([0.5, 0.5]) # peso1 e peso2\n",
    "n = len(dados)"
   ]
  },
  {
   "cell_type": "markdown",
   "id": "7e64da24",
   "metadata": {},
   "source": [
    "## **Passo 1**: Calcular a probabilidade de cada ponto de dado para cada Gaussiana"
   ]
  },
  {
   "cell_type": "markdown",
   "id": "58d19556",
   "metadata": {},
   "source": [
    "Usamos a fórmula de densidade de probabilidade para uma distribuição normal:\n",
    "\n",
    "$$P(x|\\mu,\\sigma^{2}) = \\frac{1}{\\sqrt{2\\pi\\sigma^{2}}}e^{-\\frac{(x - \\mu)^{2}}{2\\sigma^{2}}}$$\n",
    "\n",
    "Para cada ponto dado $x$, calculamos sua probabilidade sob as duas Gaussianas. Por exemplo, para $x = 160$ (dados[0]):\n",
    "\n",
    "$$P(160|\\mu = 165, \\sigma^{2} = 25) \\ e \\ P(160|\\mu = 180, \\sigma^{2} = 25)$$"
   ]
  },
  {
   "cell_type": "code",
   "execution_count": null,
   "id": "c45f02a2",
   "metadata": {
    "ExecuteTime": {
     "end_time": "2024-03-09T12:53:36.642531Z",
     "start_time": "2024-03-09T12:53:36.637773Z"
    }
   },
   "outputs": [],
   "source": [
    "print(f'{norm.pdf(dados[0], mu[0], sigma[0])} e {norm.pdf(dados[1], mu[1], sigma[1])}')"
   ]
  },
  {
   "cell_type": "markdown",
   "id": "b0514af0",
   "metadata": {},
   "source": [
    "## **Passo 2**: Calcular a responsabilidade de cada Gaussiana para cada ponto dado"
   ]
  },
  {
   "cell_type": "markdown",
   "id": "aff5390d",
   "metadata": {},
   "source": [
    "A responsabilidade $(\\gamma)$ de cada Gaussiana é calculada usando a fórmula:\n",
    "\n",
    "$$\\gamma(z_{nk}) = \\frac{\\pi_{k}P(x_{n}|\\mu_{k},\\sigma_{k}^{2})}{\\sum_{j=1}^{k} \\pi_{j}P(x_{n}|\\mu_{j},\\sigma_{j}^{2})}$$\n",
    "\n",
    "onde\n",
    "\n",
    "$\\bullet \\gamma(z_{nk})$ é a probabilidade posterior de que o ponto $n$ seja gerado pela Gaussiana $k$.\n",
    "\n",
    "$\\bullet \\pi_{k}$ é o peso da $k$-ésima Gaussiana.\n",
    "\n",
    "$\\bullet P(x_{n}|\\mu_{k},\\sigma_{k}^{2})$ é a probabilidade de $x_{n}$ sob a $k$-ésima Gaussiana.\n",
    "\n",
    "O denominador é a soma das probabilidades ponderadas de $x_{n}$ sob todas as Gaussianas. Por exemplo, "
   ]
  },
  {
   "cell_type": "markdown",
   "id": "2004731e",
   "metadata": {},
   "source": [
    "Para o primeiro ponto de dados ($160 = dados[0]$) e Gaussiana $1$ ($\\mu_{1} = 165, \\sigma_{1} = 5$):\n",
    "\n",
    "$$\\gamma_{11} = \\frac{0.5 P(\\boxed{160}|165,25)}{0.5P(\\boxed{160}|165,25)+0.5P(\\boxed{160}|180,25)} = 0.9994472213630764$$\n",
    "\n",
    "Veja na célula a seguir como obter $\\gamma_{11}$ no Jupyter:"
   ]
  },
  {
   "cell_type": "code",
   "execution_count": null,
   "id": "2bbd5ab2",
   "metadata": {
    "ExecuteTime": {
     "end_time": "2024-03-09T12:53:37.395864Z",
     "start_time": "2024-03-09T12:53:37.389797Z"
    }
   },
   "outputs": [],
   "source": [
    "gamma11 = pi[0]*norm.pdf(dados[0], mu[0], sigma[0])/(pi[0]*norm.pdf(dados[0], mu[0], sigma[0]) + pi[1]*norm.pdf(dados[0], mu[1], sigma[1]))\n",
    "print(gamma11)"
   ]
  },
  {
   "cell_type": "markdown",
   "id": "71affc10",
   "metadata": {},
   "source": [
    "De modo análogo obtem-se $\\gamma_{12}$, $\\gamma_{13}$, $\\gamma_{14}$, $\\gamma_{15}$, $\\gamma_{21}$, $\\gamma_{22}$, $\\gamma_{23}$, $\\gamma_{24}$ e $\\gamma_{25}$. O código a seguir obtem todos os valores $\\gamma(z_{nk})$:"
   ]
  },
  {
   "cell_type": "code",
   "execution_count": null,
   "id": "066a15ce",
   "metadata": {
    "ExecuteTime": {
     "end_time": "2024-03-09T12:53:37.766471Z",
     "start_time": "2024-03-09T12:53:37.757386Z"
    }
   },
   "outputs": [],
   "source": [
    "# Cálculo das responsabilidades\n",
    "gamma = np.zeros((n, 2))\n",
    "\n",
    "for i in range(n):\n",
    "    denom = pi[0] * norm.pdf(dados[i], mu[0], sigma[0]) + pi[1] * norm.pdf(dados[i], mu[1], sigma[1])\n",
    "    gamma[i, 0] = pi[0] * norm.pdf(dados[i], mu[0], sigma[0]) / denom\n",
    "    gamma[i, 1] = pi[1] * norm.pdf(dados[i], mu[1], sigma[1]) / denom\n",
    "\n",
    "print('     gamma_n1,       gamma_n2')\n",
    "print(gamma)"
   ]
  },
  {
   "cell_type": "markdown",
   "id": "b08eb04d",
   "metadata": {},
   "source": [
    "## **Passo 3**: Atualizar os parâmetros das Gaussianas"
   ]
  },
  {
   "attachments": {},
   "cell_type": "markdown",
   "id": "137a0b1a",
   "metadata": {},
   "source": [
    "Com base nas responsabilidades calculadas, atualizamos os pesos, médias e variância das Gaussianas:\n",
    "\n",
    "$\\bullet$ **Novos Pesos ($\\pi_{k}$)**: A média das responsabilidades para cada Gaussiana.\n",
    "\n",
    "$$\\pi_{1}^{(n+1)} = \\frac{\\sum_{i=1}^{N} \\gamma_{1i}}{N} \\ e \\ \\pi_{1}^{(n+1)} = \\frac{\\sum_{i=1}^{N} \\gamma_{2i}}{N}$$\n",
    "\n",
    "$\\bullet$ **Novas Médias ($\\mu_{k}$)**: Uma média ponderada dos dados, onde os pesos são responsabilidades.\n",
    "\n",
    "$$\\mu_{1}^{(n+1)} = \\frac{\\sum_{i=1}^{N} \\gamma_{1i}x_{i}}{\\sum_{i=1}^{N} \\gamma_{1i}} \\ e \\ \\mu_{2}^{(n+1)} = \\frac{\\sum_{i=1}^{N} \\gamma_{2i}x_{i}}{\\sum_{i=1}^{N} \\gamma_{2i}}$$\n",
    "\n",
    "$\\bullet$ **Novas Variâncias ($\\sigma_{k}^{2}$)**: Uma média ponderada das diferenças quadradas dos dados em relação às novas médias, novamente ponderada pelas responsabilidades.\n",
    "\n",
    "$$(\\sigma^{2}_{1})^{(n+1)} = \\frac{\\sum_{i=1}^{N}(x_{i}-\\mu_{1}^{(n+1)})^{2}}{\\sum_{i=1}^{N} \\gamma_{1i}} \\ e \\ (\\sigma^{2}_{2})^{(n+1)} = \\frac{\\sum_{i=1}^{N}(x_{i}-\\mu_{2}^{(n+1)})^{2}}{\\sum_{i=1}^{N} \\gamma_{2i}} $$\n",
    "\n",
    "O código a seguir nos fornece os códigos referentes às fórmulas anteriores:"
   ]
  },
  {
   "cell_type": "code",
   "execution_count": null,
   "id": "2515998e",
   "metadata": {
    "ExecuteTime": {
     "end_time": "2024-03-09T12:53:38.795213Z",
     "start_time": "2024-03-09T12:53:38.789814Z"
    }
   },
   "outputs": [],
   "source": [
    "# M-step: Atualiza os parâmetros\n",
    "Nk = np.sum(gamma, axis=0) # denominador\n",
    "for k in range(2):\n",
    "    mu[k] = np.sum(gamma[:, k] * dados) / Nk[k]\n",
    "    sigma[k] = np.sqrt(np.sum(gamma[:, k] * (dados - mu[k])**2) / Nk[k])\n",
    "    pi[k] = Nk[k] / n"
   ]
  },
  {
   "cell_type": "code",
   "execution_count": null,
   "id": "1c20a553",
   "metadata": {
    "ExecuteTime": {
     "end_time": "2024-03-09T12:53:39.546239Z",
     "start_time": "2024-03-09T12:53:39.541808Z"
    }
   },
   "outputs": [],
   "source": [
    "print(mu)"
   ]
  },
  {
   "cell_type": "code",
   "execution_count": null,
   "id": "41dae754",
   "metadata": {
    "ExecuteTime": {
     "end_time": "2024-03-09T12:53:39.747114Z",
     "start_time": "2024-03-09T12:53:39.734354Z"
    }
   },
   "outputs": [],
   "source": [
    "print(sigma)"
   ]
  },
  {
   "cell_type": "code",
   "execution_count": null,
   "id": "b3b08cdd",
   "metadata": {
    "ExecuteTime": {
     "end_time": "2024-03-09T12:53:39.955804Z",
     "start_time": "2024-03-09T12:53:39.935439Z"
    }
   },
   "outputs": [],
   "source": [
    "print(pi)"
   ]
  },
  {
   "cell_type": "markdown",
   "id": "60c369cd",
   "metadata": {},
   "source": [
    "## **Passo 4**: Iterações"
   ]
  },
  {
   "cell_type": "markdown",
   "id": "120e8021",
   "metadata": {},
   "source": [
    "Repita os passos 2 e 3 até que os parâmetros das Gaussianas convirjam (ou seja, não mudem significativamente entre iterações)."
   ]
  },
  {
   "cell_type": "markdown",
   "id": "f2e1a63d",
   "metadata": {},
   "source": [
    "## Algoritmo Completo (duas populações)"
   ]
  },
  {
   "cell_type": "markdown",
   "id": "ce9b5c8b",
   "metadata": {},
   "source": [
    "Segue o algoritmo que realiza os cálculos acima:"
   ]
  },
  {
   "cell_type": "code",
   "execution_count": 18,
   "id": "3c16da96",
   "metadata": {
    "ExecuteTime": {
     "end_time": "2024-03-09T13:15:01.651044Z",
     "start_time": "2024-03-09T13:15:01.626946Z"
    }
   },
   "outputs": [
    {
     "name": "stdout",
     "output_type": "stream",
     "text": [
      "[165 179] [4 4] [0.5 0.5]\n",
      "[164 179] [4 4] [0.48636863 0.51363137]\n",
      "[164 179] [4 4] [0.47111729 0.52888271]\n",
      "[164 179] [4 4] [0.46906663 0.53093337]\n",
      "[164 179] [4 4] [0.46878716 0.53121284]\n"
     ]
    }
   ],
   "source": [
    "import numpy as np\n",
    "from scipy.stats import norm\n",
    "\n",
    "def mistura_gaussiana_em(dados, mu_inicial, sigma_inicial, pi_inicial, n_iteracoes):\n",
    "    # Inicializa os parâmetros\n",
    "    mu = mu_inicial\n",
    "    sigma = sigma_inicial\n",
    "    pi = pi_inicial\n",
    "    n = len(dados)\n",
    "    \n",
    "    for _ in range(n_iteracoes):\n",
    "        # E-step: Calcula as responsabilidades\n",
    "        gamma = np.zeros((n, 2))\n",
    "        for i in range(n):\n",
    "            denom = pi[0] * norm.pdf(dados[i], mu[0], sigma[0]) + pi[1] * norm.pdf(dados[i], mu[1], sigma[1])\n",
    "            gamma[i, 0] = pi[0] * norm.pdf(dados[i], mu[0], sigma[0]) / denom\n",
    "            gamma[i, 1] = pi[1] * norm.pdf(dados[i], mu[1], sigma[1]) / denom\n",
    "        \n",
    "        # M-step: Atualiza os parâmetros\n",
    "        Nk = np.sum(gamma, axis=0)\n",
    "        for k in range(2):\n",
    "            mu[k] = np.sum(gamma[:, k] * dados) / Nk[k]\n",
    "            sigma[k] = np.sqrt(np.sum(gamma[:, k] * (dados - mu[k])**2) / Nk[k])\n",
    "            pi[k] = Nk[k] / n\n",
    "        print(mu, sigma, pi)\n",
    "    \n",
    "    return mu, sigma, pi\n",
    "\n",
    "# Dados de exemplo\n",
    "dados = np.array([160, 165, 170, 175, 180, 185])\n",
    "\n",
    "# Parâmetros iniciais\n",
    "mu_inicial = np.array([165, 180])\n",
    "sigma_inicial = np.array([5, 5])\n",
    "pi_inicial = np.array([0.5, 0.5])\n",
    "\n",
    "# Número de iterações\n",
    "n_iteracoes = 5\n",
    "\n",
    "# Executa o algoritmo\n",
    "mu_final, sigma_final, pi_final = mistura_gaussiana_em(dados, mu_inicial, sigma_inicial, pi_inicial, n_iteracoes)"
   ]
  },
  {
   "cell_type": "markdown",
   "id": "7a4c8248",
   "metadata": {
    "ExecuteTime": {
     "end_time": "2024-03-04T00:05:20.081953Z",
     "start_time": "2024-03-04T00:05:20.078048Z"
    }
   },
   "source": [
    "## Algoritmo Completo (k populações)"
   ]
  },
  {
   "cell_type": "markdown",
   "id": "facb0400",
   "metadata": {},
   "source": [
    "Apresentamos a seguir a versão do nosso código considerando a mistura Gaussiana com $m$ populações:"
   ]
  },
  {
   "cell_type": "code",
   "execution_count": 19,
   "id": "6d26ae94",
   "metadata": {
    "ExecuteTime": {
     "end_time": "2024-03-09T13:15:04.204573Z",
     "start_time": "2024-03-09T13:15:04.170813Z"
    }
   },
   "outputs": [
    {
     "name": "stdout",
     "output_type": "stream",
     "text": [
      "[164 174 182] [4 5 3] [0.41231408 0.33903881 0.24864711]\n",
      "[163 174 182] [4 4 2] [0.3828353  0.34479409 0.27237061]\n",
      "[163 173 182] [3 4 2] [0.36975709 0.34560582 0.28463709]\n",
      "[162 172 182] [3 3 2] [0.33320939 0.36582974 0.30096087]\n",
      "[162 172 182] [2 3 2] [0.32080153 0.35128856 0.32790991]\n",
      "Médias finais: [162 172 182]\n",
      "Desvios padrão finais: [2 3 2]\n",
      "Pesos finais: [0.32080153 0.35128856 0.32790991]\n"
     ]
    }
   ],
   "source": [
    "import numpy as np\n",
    "from scipy.stats import norm\n",
    "\n",
    "def mistura_gaussiana_em(dados, mu_inicial, sigma_inicial, n_iteracoes, K):\n",
    "    n = len(dados)  # Número de pontos de dados\n",
    "\n",
    "    # Inicializa os parâmetros\n",
    "    mu = np.array(mu_inicial)\n",
    "    sigma = np.array(sigma_inicial)\n",
    "    pi = np.full(K, 1/K)  # Pesos iniciais iguais para todas as Gaussianas\n",
    "\n",
    "    for _ in range(n_iteracoes):\n",
    "        # E-step: Calcula as responsabilidades\n",
    "        gamma = np.zeros((n, K))\n",
    "        for i in range(n):\n",
    "            denom = sum(pi[k] * norm.pdf(dados[i], mu[k], sigma[k]) for k in range(K))\n",
    "            for k in range(K):\n",
    "                gamma[i, k] = pi[k] * norm.pdf(dados[i], mu[k], sigma[k]) / denom\n",
    "\n",
    "        # M-step: Atualiza os parâmetros\n",
    "        Nk = np.sum(gamma, axis=0)\n",
    "        for k in range(K):\n",
    "            mu[k] = np.sum(gamma[:, k] * dados) / Nk[k]\n",
    "            sigma[k] = np.sqrt(np.sum(gamma[:, k] * (dados - mu[k])**2) / Nk[k])\n",
    "            pi[k] = Nk[k] / n\n",
    "\n",
    "        # Opcional: imprimir os parâmetros para acompanhar a convergência\n",
    "        print(mu, sigma, pi)\n",
    "\n",
    "    return mu, sigma, pi\n",
    "\n",
    "# Exemplo de uso com K populações\n",
    "K = 3  # Número de Gaussianas/populações\n",
    "dados = np.array([160, 165, 170, 175, 180, 185])\n",
    "mu_inicial = [165, 175, 185]  # Médias iniciais para K Gaussianas\n",
    "sigma_inicial = [5, 5, 5]  # Desvios padrão iniciais para K Gaussianas\n",
    "n_iteracoes = 5 # Número de iterações\n",
    "\n",
    "# Executar o algoritmo EM\n",
    "mu_final, sigma_final, pi_final = mistura_gaussiana_em(dados, mu_inicial, sigma_inicial, n_iteracoes, K)\n",
    "\n",
    "print(\"Médias finais:\", mu_final)\n",
    "print(\"Desvios padrão finais:\", sigma_final)\n",
    "print(\"Pesos finais:\", pi_final)\n"
   ]
  }
 ],
 "metadata": {
  "kernelspec": {
   "display_name": "Python 3 (ipykernel)",
   "language": "python",
   "name": "python3"
  },
  "language_info": {
   "codemirror_mode": {
    "name": "ipython",
    "version": 3
   },
   "file_extension": ".py",
   "mimetype": "text/x-python",
   "name": "python",
   "nbconvert_exporter": "python",
   "pygments_lexer": "ipython3",
   "version": "3.11.5"
  }
 },
 "nbformat": 4,
 "nbformat_minor": 5
}
